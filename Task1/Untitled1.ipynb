{
 "cells": [
  {
   "cell_type": "markdown",
   "metadata": {},
   "source": [
    "| Algorithm                              |      err_train      |       err_test      | \n",
    "|--------------------------------------- |:-------------------:|:-------------------:|\n",
    "| Random Forest                          |      0.003          |        0.031        |\n",
    "| Extremely Randomized Trees             |       0             |        0.016        |\n",
    "| AdaBoost                               |      0.12           |        0.11         |\n",
    "| GDB                                    |      0.017          |       0.052         |  "
   ]
  }
 ],
 "metadata": {
  "kernelspec": {
   "display_name": "Python 3",
   "language": "python",
   "name": "python3"
  },
  "language_info": {
   "codemirror_mode": {
    "name": "ipython",
    "version": 3
   },
   "file_extension": ".py",
   "mimetype": "text/x-python",
   "name": "python",
   "nbconvert_exporter": "python",
   "pygments_lexer": "ipython3",
   "version": "3.6.7"
  }
 },
 "nbformat": 4,
 "nbformat_minor": 2
}
